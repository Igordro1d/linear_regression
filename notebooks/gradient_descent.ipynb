{
 "cells": [
  {
   "cell_type": "code",
   "id": "initial_id",
   "metadata": {
    "collapsed": true,
    "ExecuteTime": {
     "end_time": "2025-02-07T23:20:47.367787Z",
     "start_time": "2025-02-07T23:20:47.277025Z"
    }
   },
   "source": [
    "from src.models.univariate_regression import (\n",
    "    gradient_descent,\n",
    "    compute_cost,\n",
    "    compute_gradient\n",
    ")\n",
    "from src.feature_scaling import minmax_scaling\n",
    "import numpy as np"
   ],
   "outputs": [],
   "execution_count": 1
  },
  {
   "metadata": {
    "ExecuteTime": {
     "end_time": "2025-02-07T23:20:48.601169Z",
     "start_time": "2025-02-07T23:20:48.491666Z"
    }
   },
   "cell_type": "code",
   "source": [
    "x = np.array([50, 80, 100, 120, 150, 180, 200, 220, 250, 280, 300, 320, 350, 380, 400])\n",
    "y = np.array([200, 300, 380, 450, 550, 620, 700, 750, 800, 850, 900, 950, 1000, 1100, 1200])\n",
    "#using minmax scaling to normalize the data\n",
    "x_minmax = minmax_scaling(x)\n",
    "\n",
    "w_init = 0\n",
    "b_init = 0\n",
    "iterations = 10000\n",
    "alpha = 0.01\n",
    "w, b, parameter_history, cost_history = gradient_descent(\n",
    "    x_minmax, y, w_init, b_init, alpha, iterations, compute_cost, compute_gradient\n",
    ")\n",
    "print(f\"Final w: {w:8.4f}, Final b: {b:8.4f}\")"
   ],
   "id": "a1b0908a66cecb13",
   "outputs": [
    {
     "name": "stdout",
     "output_type": "stream",
     "text": [
      "Iteration    0: Cost = 2.910e+05 dj_dw: -4.472e+02, dj_db: -7.167e+02 w: 4.472e+00, b: 7.167e+00\n",
      "Iteration 1000: Cost = 4.490e+03 dj_dw: -2.156e+01, dj_db: 1.167e+01 w: 6.373e+02, b: 4.091e+02\n",
      "Iteration 2000: Cost = 1.380e+03 dj_dw: -1.018e+01, dj_db: 5.515e+00 w: 7.889e+02, b: 3.270e+02\n",
      "Iteration 3000: Cost = 6.862e+02 dj_dw: -4.809e+00, dj_db: 2.605e+00 w: 8.605e+02, b: 2.882e+02\n",
      "Iteration 4000: Cost = 5.315e+02 dj_dw: -2.271e+00, dj_db: 1.230e+00 w: 8.944e+02, b: 2.699e+02\n",
      "Iteration 5000: Cost = 4.970e+02 dj_dw: -1.073e+00, dj_db: 5.810e-01 w: 9.103e+02, b: 2.612e+02\n",
      "Iteration 6000: Cost = 4.893e+02 dj_dw: -5.067e-01, dj_db: 2.744e-01 w: 9.179e+02, b: 2.571e+02\n",
      "Iteration 7000: Cost = 4.876e+02 dj_dw: -2.393e-01, dj_db: 1.296e-01 w: 9.214e+02, b: 2.552e+02\n",
      "Iteration 8000: Cost = 4.872e+02 dj_dw: -1.130e-01, dj_db: 6.120e-02 w: 9.231e+02, b: 2.543e+02\n",
      "Iteration 9000: Cost = 4.871e+02 dj_dw: -5.337e-02, dj_db: 2.891e-02 w: 9.239e+02, b: 2.539e+02\n",
      "Final w: 924.2814, Final b: 253.6594\n"
     ]
    }
   ],
   "execution_count": 2
  },
  {
   "metadata": {},
   "cell_type": "code",
   "outputs": [],
   "source": "",
   "id": "8f207ffb342d27fa",
   "execution_count": null
  }
 ],
 "metadata": {
  "kernelspec": {
   "display_name": "Python 3",
   "language": "python",
   "name": "python3"
  },
  "language_info": {
   "codemirror_mode": {
    "name": "ipython",
    "version": 2
   },
   "file_extension": ".py",
   "mimetype": "text/x-python",
   "name": "python",
   "nbconvert_exporter": "python",
   "pygments_lexer": "ipython2",
   "version": "2.7.6"
  }
 },
 "nbformat": 4,
 "nbformat_minor": 5
}
