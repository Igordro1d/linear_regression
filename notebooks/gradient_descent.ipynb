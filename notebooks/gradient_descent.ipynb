{
 "cells": [
  {
   "cell_type": "code",
   "id": "initial_id",
   "metadata": {
    "collapsed": true,
    "ExecuteTime": {
     "end_time": "2025-02-07T08:13:46.768225Z",
     "start_time": "2025-02-07T08:13:46.764865Z"
    }
   },
   "source": [
    "from src.models.univariate_regression import (\n",
    "    gradient_descent,\n",
    "    compute_cost,\n",
    "    compute_gradient\n",
    ")\n",
    "import numpy as np"
   ],
   "outputs": [],
   "execution_count": 3
  },
  {
   "metadata": {
    "ExecuteTime": {
     "end_time": "2025-02-07T08:14:24.013448Z",
     "start_time": "2025-02-07T08:14:23.895118Z"
    }
   },
   "cell_type": "code",
   "source": [
    "x = np.array([50, 80, 100, 120, 150, 180, 200, 220, 250, 280, 300, 320, 350, 380, 400])\n",
    "y = np.array([200, 300, 380, 450, 550, 620, 700, 750, 800, 850, 900, 950, 1000, 1100, 1200])\n",
    "x_minmax = (x - x.min()) / (x.max() - x.min())\n",
    "y_minmax = (y - y.min()) / (y.max() - y.min())\n",
    "w_init = 0\n",
    "b_init = 0\n",
    "iterations = 10000\n",
    "alpha = 0.01\n",
    "w, b, parameter_history, cost_history = gradient_descent(\n",
    "    x_minmax, y_minmax, w_init, b_init, alpha, iterations, compute_cost, compute_gradient\n",
    ")\n",
    "print(f\"Final w: {w:8.4f}, Final b: {b:8.4f}\")"
   ],
   "id": "a1b0908a66cecb13",
   "outputs": [
    {
     "name": "stdout",
     "output_type": "stream",
     "text": [
      "Iteration    0: Cost = 1.709e-01 dj_dw: -3.470e-01, dj_db: -5.167e-01 w: 3.470e-03, b: 5.167e-03\n",
      "Iteration 1000: Cost = 5.667e-03 dj_dw: -2.453e-02, dj_db: 1.328e-02 w: 5.978e-01, b: 2.305e-01\n",
      "Iteration 2000: Cost = 1.642e-03 dj_dw: -1.158e-02, dj_db: 6.273e-03 w: 7.703e-01, b: 1.371e-01\n",
      "Iteration 3000: Cost = 7.448e-04 dj_dw: -5.471e-03, dj_db: 2.963e-03 w: 8.517e-01, b: 9.296e-02\n",
      "Iteration 4000: Cost = 5.446e-04 dj_dw: -2.584e-03, dj_db: 1.399e-03 w: 8.902e-01, b: 7.212e-02\n",
      "Iteration 5000: Cost = 4.999e-04 dj_dw: -1.220e-03, dj_db: 6.609e-04 w: 9.084e-01, b: 6.228e-02\n",
      "Iteration 6000: Cost = 4.900e-04 dj_dw: -5.763e-04, dj_db: 3.121e-04 w: 9.169e-01, b: 5.764e-02\n",
      "Iteration 7000: Cost = 4.877e-04 dj_dw: -2.722e-04, dj_db: 1.474e-04 w: 9.210e-01, b: 5.544e-02\n",
      "Iteration 8000: Cost = 4.872e-04 dj_dw: -1.286e-04, dj_db: 6.962e-05 w: 9.229e-01, b: 5.441e-02\n",
      "Iteration 9000: Cost = 4.871e-04 dj_dw: -6.072e-05, dj_db: 3.288e-05 w: 9.238e-01, b: 5.392e-02\n",
      "Final w:   0.9242, Final b:   0.0537\n"
     ]
    }
   ],
   "execution_count": 8
  },
  {
   "metadata": {},
   "cell_type": "code",
   "outputs": [],
   "execution_count": null,
   "source": "",
   "id": "8f207ffb342d27fa"
  }
 ],
 "metadata": {
  "kernelspec": {
   "display_name": "Python 3",
   "language": "python",
   "name": "python3"
  },
  "language_info": {
   "codemirror_mode": {
    "name": "ipython",
    "version": 2
   },
   "file_extension": ".py",
   "mimetype": "text/x-python",
   "name": "python",
   "nbconvert_exporter": "python",
   "pygments_lexer": "ipython2",
   "version": "2.7.6"
  }
 },
 "nbformat": 4,
 "nbformat_minor": 5
}
