{
 "cells": [
  {
   "cell_type": "code",
   "id": "initial_id",
   "metadata": {
    "collapsed": true,
    "ExecuteTime": {
     "end_time": "2025-02-07T23:19:31.003839Z",
     "start_time": "2025-02-07T23:19:30.916589Z"
    }
   },
   "source": [
    "from src.models.multiple_linear_regression import (\n",
    "    gradient_descent,\n",
    "    compute_cost,\n",
    "    compute_gradient\n",
    ")\n",
    "from src.feature_scaling import z_score_normalisation\n",
    "import numpy as np\n"
   ],
   "outputs": [],
   "execution_count": 1
  },
  {
   "metadata": {
    "ExecuteTime": {
     "end_time": "2025-02-07T23:19:58.759221Z",
     "start_time": "2025-02-07T23:19:58.259340Z"
    }
   },
   "cell_type": "code",
   "source": [
    "X = np.array([\n",
    "    [120, 3, 2, 15, 5, 1],\n",
    "    [150, 3, 2, 20, 8, 2],\n",
    "    [80, 2, 1, 5, 2, 1],\n",
    "    [200, 4, 3, 10, 12, 2],\n",
    "    [160, 3, 2, 8, 6, 1],\n",
    "    [250, 5, 4, 3, 15, 2],\n",
    "    [90, 2, 1, 25, 3, 1],\n",
    "    [180, 4, 2, 12, 7, 2],\n",
    "    [140, 3, 2, 18, 4, 1],\n",
    "    [300, 6, 4, 2, 20, 3]\n",
    "])\n",
    "y = np.array([300, 400, 200, 600, 450, 800, 250, 500, 350, 900])\n",
    "#using z=score scaling to normalize the data\n",
    "X_norm = z_score_normalisation(X)\n",
    "w_init = np.zeros(X.shape[1])\n",
    "b_init = 0\n",
    "iterations = 10000\n",
    "alpha = 0.01\n",
    "w, b, cost_history = gradient_descent(X_norm, y, w_init, b_init, compute_cost, compute_gradient, alpha, iterations)\n",
    "print(f\"Final w: {w}, Final b: {b}\")"
   ],
   "id": "f92db6b3b1a4e230",
   "outputs": [
    {
     "name": "stdout",
     "output_type": "stream",
     "text": [
      "Iteration    0: Cost = 1.323e+05\n",
      "Iteration 1000: Cost = 3.889e+02\n",
      "Iteration 2000: Cost = 3.368e+02\n",
      "Iteration 3000: Cost = 3.019e+02\n",
      "Iteration 4000: Cost = 2.768e+02\n",
      "Iteration 5000: Cost = 2.585e+02\n",
      "Iteration 6000: Cost = 2.451e+02\n",
      "Iteration 7000: Cost = 2.352e+02\n",
      "Iteration 8000: Cost = 2.279e+02\n",
      "Iteration 9000: Cost = 2.224e+02\n",
      "Final w: [164.13130791  -4.78839431  11.07488053  -6.56481287  56.97770997\n",
      " -13.68260376], Final b: 474.9999999999972\n"
     ]
    }
   ],
   "execution_count": 3
  }
 ],
 "metadata": {
  "kernelspec": {
   "display_name": "Python 3",
   "language": "python",
   "name": "python3"
  },
  "language_info": {
   "codemirror_mode": {
    "name": "ipython",
    "version": 2
   },
   "file_extension": ".py",
   "mimetype": "text/x-python",
   "name": "python",
   "nbconvert_exporter": "python",
   "pygments_lexer": "ipython2",
   "version": "2.7.6"
  }
 },
 "nbformat": 4,
 "nbformat_minor": 5
}
